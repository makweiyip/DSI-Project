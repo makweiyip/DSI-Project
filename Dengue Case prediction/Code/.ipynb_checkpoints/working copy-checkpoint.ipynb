{
 "cells": [
  {
   "cell_type": "code",
   "execution_count": 74,
   "id": "e25eb27b-f113-4d25-b271-4bfa5b720b2e",
   "metadata": {},
   "outputs": [],
   "source": [
    "import numpy as np\n",
    "import pandas as pd\n",
    "\n",
    "from datetime import date, timedelta\n",
    "\n",
    "import requests\n",
    "\n",
    "from bs4 import BeautifulSoup\n",
    "\n",
    "import re\n",
    "\n",
    "import matplotlib.pyplot as plt"
   ]
  },
  {
   "cell_type": "markdown",
   "id": "626ad274-f49f-4431-a2c7-9e6b0dc8c398",
   "metadata": {},
   "source": [
    "---\n",
    "# Data Cleaning\n",
    "\n",
    "**Datasets**\n",
    "- Daily climate data, spread across numerous .csv files.\n",
    "- Monthly mean humidity data.\n",
    "- Weekly infectious diseases data.\n",
    "- Monthly google search trends data for search term 'dengue'.\n",
    "\n",
    "**Cleaning**\n",
    "- Rename columns if necessary.\n",
    "- Where possible, add in the following columns:\n",
    "    - `year`, for filtering purposes\n",
    "    - `year_month`; format is standardised, eg. 2012-M05\n",
    "    - `week`, if necessary\n",
    "    - `year_week`; format is standardised, eg. 2012-W29\n",
    "---"
   ]
  },
  {
   "cell_type": "markdown",
   "id": "e82f18fd-0494-4c65-b330-2a7cc6af6e0a",
   "metadata": {},
   "source": [
    "---\n",
    "## `df_climate`\n",
    "---"
   ]
  },
  {
   "cell_type": "code",
   "execution_count": 75,
   "id": "72a743a3-9237-4180-baa3-26a7bfcd85c7",
   "metadata": {},
   "outputs": [],
   "source": [
    "# Either read in climate.csv, or create the file if it doesn't yet exist.\n",
    "\n",
    "try:\n",
    "    \n",
    "    df_climate = pd.read_csv('../data/climate.csv')\n",
    "    df_climate.drop('Unnamed: 0', axis=1, inplace=True)\n",
    "    \n",
    "except:\n",
    "    \n",
    "    year_and_month = [''.join(i.split('-')[:2]) for i in pd.to_datetime([f'{year}' + f' 0{month}' for year in range(1980,2023) for month in range(1,13)]).astype(str)]\n",
    "    year_and_month.append('202301')\n",
    "    year_and_month.append('202302')\n",
    "    year_and_month = list(set(year_and_month))\n",
    "    \n",
    "    urls = [f'http://www.weather.gov.sg/files/dailydata/DAILYDATA_S24_{yyyymm}.csv' for yyyymm in year_and_month]\n",
    "    \n",
    "    destination_folder = '../data/'\n",
    "    \n",
    "    for url in urls:\n",
    "\n",
    "        filename = url.split('/')[-1]\n",
    "\n",
    "        path = destination_folder + filename\n",
    "\n",
    "        try:\n",
    "\n",
    "            pd.read_csv(path, encoding='ANSI')\n",
    "\n",
    "        except:\n",
    "\n",
    "            response = requests.get(url)\n",
    "\n",
    "            soup = BeautifulSoup(response.content, 'html.parser')\n",
    "\n",
    "            content = response.content\n",
    "\n",
    "            with open(path, 'wb') as f:\n",
    "                f.write(content)\n",
    "                \n",
    "    df_climate = pd.DataFrame()\n",
    "\n",
    "    for url in urls:\n",
    "\n",
    "        filename = url.split('/')[-1]\n",
    "\n",
    "        path = destination_folder + filename\n",
    "\n",
    "        df = pd.read_csv(path, encoding='ANSI')\n",
    "\n",
    "        new_cols = [col.lower() for col in df.columns if len(col.split(' ')) < 2] + \\\n",
    "        ['_'.join(col.lower().split(' ')[:-1]) for col in df.columns if '(' in col]\n",
    "\n",
    "        df.rename(columns={old_col: new_col for old_col, new_col in zip(df.columns, new_cols)}, \n",
    "                  inplace=True, \n",
    "                  errors='ignore')\n",
    "\n",
    "        df_climate = pd.concat([df_climate, df.loc[:, lambda x: x.columns.str.contains('station') == False]])\n",
    "\n",
    "        df_climate = df_climate.sort_values(['year', 'month', 'day'], ascending=True).reset_index().drop('index', axis=1)\n",
    "\n",
    "        df_climate.to_csv('../data/climate.csv')"
   ]
  },
  {
   "cell_type": "code",
   "execution_count": 76,
   "id": "55de4e84-d027-454f-8e45-7b279e55f1ab",
   "metadata": {},
   "outputs": [],
   "source": [
    "# Include 'year_month' column for grouping purposes later.\n",
    "# Adheres to standardised format.\n",
    "\n",
    "df_climate['year_month'] = df_climate.apply(lambda x: (str(x['year']) + '-M0' + str(x['month'])) \\\n",
    "                                            if x['month'] in range(1,10) else (str(x['year']) + '-M' + str(x['month'])), \n",
    "                                            axis=1)"
   ]
  },
  {
   "cell_type": "code",
   "execution_count": 77,
   "id": "60b2d119-97a4-48aa-88be-f0de93bda69c",
   "metadata": {},
   "outputs": [],
   "source": [
    "# Add in a week column based on isocalendar().\n",
    "# Will not correspond exactly to how other pre-sorted weekly datasets,\n",
    "# but at least it's accurate.\n",
    "\n",
    "df_climate['week'] = df_climate.apply(lambda x: date(x['year'], x['month'], x['day']).isocalendar()[1], axis=1)"
   ]
  },
  {
   "cell_type": "code",
   "execution_count": 78,
   "id": "5f210dd3-fbb5-40c0-ab4c-c223251f04e9",
   "metadata": {},
   "outputs": [],
   "source": [
    "# Include 'year_week' column for grouping purposes later.\n",
    "# Adheres to standardised format.\n",
    "\n",
    "df_climate['year_week'] = df_climate.apply(lambda x: (str(x['year']) + '-W0' + str(x['week'])) \\\n",
    "                                           if x['week'] in range(1,10) else (str(x['year']) + '-W' + str(x['week'])), \n",
    "                                           axis=1)"
   ]
  },
  {
   "cell_type": "code",
   "execution_count": 79,
   "id": "4f0535b2-857a-4920-9a28-cbd8f75ff6cc",
   "metadata": {},
   "outputs": [],
   "source": [
    "# Filter dataframe to relevant date range.\n",
    "# Has to be done at this point to avoid errors when trying to convert values to float,\n",
    "# since, for the earlier years, data is not collected therefore values are nan.\n",
    "\n",
    "df_climate_2012_2022 = df_climate.loc[lambda x: x.year.between(2012,2022), :]"
   ]
  },
  {
   "cell_type": "code",
   "execution_count": 80,
   "id": "0bd67713-c75e-464c-94d9-e3257baf09ae",
   "metadata": {},
   "outputs": [
    {
     "name": "stderr",
     "output_type": "stream",
     "text": [
      "C:\\Users\\65902\\AppData\\Local\\Temp\\ipykernel_4536\\2859946516.py:3: SettingWithCopyWarning: \n",
      "A value is trying to be set on a copy of a slice from a DataFrame.\n",
      "Try using .loc[row_indexer,col_indexer] = value instead\n",
      "\n",
      "See the caveats in the documentation: https://pandas.pydata.org/pandas-docs/stable/user_guide/indexing.html#returning-a-view-versus-a-copy\n",
      "  df_climate_2012_2022['mean_temperature'] = df_climate_2012_2022.mean_temperature.map(lambda x: float(x))\n"
     ]
    }
   ],
   "source": [
    "# Convert str to float so that .mean() can be applied.\n",
    "\n",
    "df_climate_2012_2022['mean_temperature'] = df_climate_2012_2022.mean_temperature.map(lambda x: float(x))"
   ]
  },
  {
   "cell_type": "code",
   "execution_count": 81,
   "id": "84aa01e3-4808-4500-ad8d-4b74e1fdf696",
   "metadata": {},
   "outputs": [
    {
     "name": "stderr",
     "output_type": "stream",
     "text": [
      "C:\\Users\\65902\\AppData\\Local\\Temp\\ipykernel_4536\\788401491.py:3: SettingWithCopyWarning: \n",
      "A value is trying to be set on a copy of a slice from a DataFrame.\n",
      "Try using .loc[row_indexer,col_indexer] = value instead\n",
      "\n",
      "See the caveats in the documentation: https://pandas.pydata.org/pandas-docs/stable/user_guide/indexing.html#returning-a-view-versus-a-copy\n",
      "  df_climate_2012_2022['daily_rainfall_total'] = df_climate_2012_2022.daily_rainfall_total.map(lambda x: float(x))\n"
     ]
    }
   ],
   "source": [
    "# Convert str to float so that .sum() can be applied.\n",
    "\n",
    "df_climate_2012_2022['daily_rainfall_total'] = df_climate_2012_2022.daily_rainfall_total.map(lambda x: float(x))"
   ]
  },
  {
   "cell_type": "code",
   "execution_count": 82,
   "id": "6ca8ba7c-f102-4167-a289-4e02f774be0e",
   "metadata": {},
   "outputs": [],
   "source": [
    "# Rename column to be more accurate.\n",
    "\n",
    "df_climate_2012_2022 = df_climate_2012_2022.rename(columns={'daily_rainfall_total': 'total_rainfall'})"
   ]
  },
  {
   "cell_type": "markdown",
   "id": "5c18c9d2-1b3e-493f-9f25-6c47008f5a67",
   "metadata": {},
   "source": [
    "---\n",
    "## `df_mean_humidity`\n",
    "---"
   ]
  },
  {
   "cell_type": "code",
   "execution_count": 10,
   "id": "f0551017-191d-470c-ada1-9cdde2240544",
   "metadata": {},
   "outputs": [],
   "source": [
    "# Read in monthly mean humidity data.\n",
    "\n",
    "df_mean_humidity = pd.read_csv('../data/relative-humidity-monthly-mean.csv')"
   ]
  },
  {
   "cell_type": "code",
   "execution_count": 11,
   "id": "407420b5-a3e4-4e37-9ed1-7b713adb82ac",
   "metadata": {},
   "outputs": [],
   "source": [
    "# Include 'year_month' column for grouping purposes later.\n",
    "\n",
    "df_mean_humidity['year_month'] = df_mean_humidity.month.map(lambda x: x[:5] + 'M' + x[-2:])"
   ]
  },
  {
   "cell_type": "code",
   "execution_count": 12,
   "id": "b70bcb8d-fee9-4022-bc38-2baeca43e7bf",
   "metadata": {},
   "outputs": [],
   "source": [
    "# Include 'year' column for filtering purposes later.\n",
    "\n",
    "df_mean_humidity['year'] = df_mean_humidity.month.map(lambda x: int(x[:4]))"
   ]
  },
  {
   "cell_type": "markdown",
   "id": "f42e6ad8-d0db-418c-a959-42c699bccdf3",
   "metadata": {},
   "source": [
    "---\n",
    "## `df_dengue`\n",
    "---"
   ]
  },
  {
   "cell_type": "code",
   "execution_count": 13,
   "id": "64867eab-4f7c-44f8-ae40-039795b91c09",
   "metadata": {},
   "outputs": [],
   "source": [
    "# Read in weekly infectious diseases data.\n",
    "\n",
    "df_dengue = pd.read_csv('../data/weekly-infectious-disease-bulletin-cases.csv')"
   ]
  },
  {
   "cell_type": "code",
   "execution_count": 14,
   "id": "0f21c2f5-cfa7-4d46-9bdf-f368069fbcfa",
   "metadata": {},
   "outputs": [],
   "source": [
    "# Drop irrelevant information.\n",
    "# Merge relevant information.\n",
    "\n",
    "df_dengue = df_dengue.loc[df_dengue.disease.map(lambda x: (x=='Dengue Fever') | (x=='Dengue Haemorrhagic Fever'))].\\\n",
    "reset_index().drop('index', axis=1).groupby('epi_week')[['epi_week', 'no._of_cases']].sum()"
   ]
  },
  {
   "cell_type": "code",
   "execution_count": 15,
   "id": "7c94ff58-5f82-4851-8448-9a79527a5371",
   "metadata": {},
   "outputs": [],
   "source": [
    "# Rename column to be more informative.\n",
    "\n",
    "df_dengue.rename(columns={'no._of_cases': 'dengue_cases'}, inplace=True, errors='ignore')"
   ]
  },
  {
   "cell_type": "code",
   "execution_count": 16,
   "id": "22fc1c60-8eb8-46eb-843c-bd79786ef231",
   "metadata": {},
   "outputs": [],
   "source": [
    "# Include 'year' column for filtering purposes later.\n",
    "\n",
    "df_dengue['year'] = df_dengue.index.map(lambda x: int(x[:4]))"
   ]
  },
  {
   "cell_type": "code",
   "execution_count": 17,
   "id": "a0e87d3d-6959-4fc1-b135-7dd08c3dec59",
   "metadata": {},
   "outputs": [],
   "source": [
    "# Include 'year_week' column for grouping purposes later.\n",
    "\n",
    "df_dengue['year_week'] = df_dengue.index"
   ]
  },
  {
   "cell_type": "markdown",
   "id": "d1a0d2a2-29da-429d-95fa-4bcbbc11eb3f",
   "metadata": {},
   "source": [
    "---\n",
    "## `df_trends`\n",
    "---"
   ]
  },
  {
   "cell_type": "code",
   "execution_count": 18,
   "id": "85d6f144-ee81-4909-90ca-f4618519eb22",
   "metadata": {},
   "outputs": [],
   "source": [
    "# Read in monthly google search trends.\n",
    "\n",
    "df_trends = pd.read_csv('../data/interest_trend_2004_to_2023.csv')"
   ]
  },
  {
   "cell_type": "code",
   "execution_count": 19,
   "id": "2a27c642-6e00-4993-a01a-c8f627c56eb6",
   "metadata": {},
   "outputs": [],
   "source": [
    "# Drop irrelevant first row.\n",
    "\n",
    "df_trends = df_trends.iloc[1:, :]"
   ]
  },
  {
   "cell_type": "code",
   "execution_count": 20,
   "id": "471f8614-84f8-413f-ab83-148da9b25686",
   "metadata": {},
   "outputs": [],
   "source": [
    "# Rename column to be more informative.\n",
    "\n",
    "df_trends.rename(columns={'Category: All categories': 'searches'}, inplace=True, errors='ignore')"
   ]
  },
  {
   "cell_type": "code",
   "execution_count": 21,
   "id": "5dba345e-970b-471b-8b0b-ef0f7f783564",
   "metadata": {},
   "outputs": [],
   "source": [
    "# Convert values to int.\n",
    "\n",
    "df_trends['searches'] = df_trends.searches.map(lambda x: int(x))"
   ]
  },
  {
   "cell_type": "code",
   "execution_count": 22,
   "id": "ca8cc71d-4741-4f93-acad-7b5a7608ea13",
   "metadata": {},
   "outputs": [],
   "source": [
    "# Include 'year_month' column for grouping purposes later.\n",
    "\n",
    "df_trends['year_month'] = df_trends.index"
   ]
  },
  {
   "cell_type": "code",
   "execution_count": 23,
   "id": "70826f4e-148e-47a9-a5a5-a3dbd2a0d31b",
   "metadata": {},
   "outputs": [],
   "source": [
    "# Edit 'year_month' column values to adhere to standardised format.\n",
    "\n",
    "df_trends['year_month'] = df_trends.year_month.map(lambda x: (x[:4] + '-M0' + x[-1]) \\\n",
    "                                                   if x[-2] == '-' else (x[:4] + '-M' + x[-2:]))"
   ]
  },
  {
   "cell_type": "code",
   "execution_count": 24,
   "id": "0b66efa9-65de-4e96-9365-b5cd63ec66fa",
   "metadata": {},
   "outputs": [],
   "source": [
    "# Include 'year' column for filtering purposes later.\n",
    "\n",
    "df_trends['year'] = df_trends.year_month.map(lambda x: int(x[:4]))"
   ]
  },
  {
   "cell_type": "markdown",
   "id": "e4903b1e-641b-4ca7-9688-db7f4422ef03",
   "metadata": {},
   "source": [
    "---\n",
    "## Obtain Weekly Data\n",
    "---\n",
    "Only applicable to mean temperature, total rainfall and dengue cases.\n",
    "\n",
    "Not applicable to mean humidity and trends."
   ]
  },
  {
   "cell_type": "code",
   "execution_count": 25,
   "id": "b81a2adf-370f-439a-b330-fcf9669fe2fa",
   "metadata": {},
   "outputs": [],
   "source": [
    "# Create a new dataframe by filtering & grouping data from df_climate_2012_2022 to obtain weekly mean temperature data.\n",
    "\n",
    "df_mean_temp_weekly = df_climate_2012_2022.groupby('year_week')[['mean_temperature']].mean()"
   ]
  },
  {
   "cell_type": "code",
   "execution_count": 26,
   "id": "64a06a23-17a8-4021-baba-188eb2901a4f",
   "metadata": {},
   "outputs": [],
   "source": [
    "# Create a new dataframe by filtering & grouping data from df_climate_2012_2022 to obtain total rainfall data by week.\n",
    "\n",
    "df_total_rf_weekly = df_climate_2012_2022.groupby('year_week')[['total_rainfall']].sum()"
   ]
  },
  {
   "cell_type": "code",
   "execution_count": 27,
   "id": "0efd7043-a16d-44e5-83f7-5c3695133e44",
   "metadata": {},
   "outputs": [],
   "source": [
    "# Create a new dataframe by filtering data from df_dengue to obtain total dengue cases by week.\n",
    "\n",
    "df_dengue_weekly = df_dengue[['dengue_cases']]"
   ]
  },
  {
   "cell_type": "code",
   "execution_count": 28,
   "id": "c182475b-636e-4dc1-b572-ab3cc12de063",
   "metadata": {},
   "outputs": [],
   "source": [
    "# Create combined weekly dataframe.\n",
    "\n",
    "df_all_weekly = pd.concat([df_mean_temp_weekly, \n",
    "                           df_total_rf_weekly, \n",
    "                           df_dengue_weekly], \n",
    "                          axis=1)"
   ]
  },
  {
   "cell_type": "markdown",
   "id": "a5c6a397-ec01-4a23-a41d-c0271f7b7adc",
   "metadata": {},
   "source": [
    "---\n",
    "## Obtain Monthly Data\n",
    "---\n",
    "NOTE: MONTHLY DENGUE DATA NOT IN YET. Will need to figure out a way to map it from weekly data."
   ]
  },
  {
   "cell_type": "code",
   "execution_count": 29,
   "id": "60552942-2a15-4974-8625-f7ef7771bb18",
   "metadata": {},
   "outputs": [],
   "source": [
    "# Create a new dataframe by filtering & grouping data from df_climate_2012_2022 to obtain monthly mean temperature data.\n",
    "\n",
    "df_mean_temp_monthly = df_climate_2012_2022.groupby('year_month')[['mean_temperature']].mean()"
   ]
  },
  {
   "cell_type": "code",
   "execution_count": 30,
   "id": "fe3e1040-2696-4f0e-b660-a0b3824ac304",
   "metadata": {},
   "outputs": [],
   "source": [
    "# Create a new dataframe by filtering & grouping data from df_climate_2012_2022 to obtain total rainfall data by month.\n",
    "\n",
    "df_total_rf_monthly = df_climate_2012_2022.groupby('year_month')[['total_rainfall']].sum()"
   ]
  },
  {
   "cell_type": "code",
   "execution_count": 31,
   "id": "cf0f1db5-3ea9-4e02-91ca-67b1c92576df",
   "metadata": {},
   "outputs": [],
   "source": [
    "# Create a new dataframe by filtering & grouping data from df_mean_humidity to obtain monthly mean humidity data.\n",
    "\n",
    "df_mean_humidity_monthly = df_mean_humidity.loc[lambda x: x.year.between(2012,2022), :].set_index('year_month')[['mean_rh']]"
   ]
  },
  {
   "cell_type": "code",
   "execution_count": 44,
   "id": "1b1e7b5d-718e-4192-a1f1-de1573d535ba",
   "metadata": {},
   "outputs": [],
   "source": [
    "# ...KIV MONTHLY DENGUE DATA..."
   ]
  },
  {
   "cell_type": "code",
   "execution_count": 102,
   "id": "647f6000-d3fb-4565-8f34-66dd1ace81a8",
   "metadata": {},
   "outputs": [
    {
     "data": {
      "text/html": [
       "<div>\n",
       "<style scoped>\n",
       "    .dataframe tbody tr th:only-of-type {\n",
       "        vertical-align: middle;\n",
       "    }\n",
       "\n",
       "    .dataframe tbody tr th {\n",
       "        vertical-align: top;\n",
       "    }\n",
       "\n",
       "    .dataframe thead th {\n",
       "        text-align: right;\n",
       "    }\n",
       "</style>\n",
       "<table border=\"1\" class=\"dataframe\">\n",
       "  <thead>\n",
       "    <tr style=\"text-align: right;\">\n",
       "      <th></th>\n",
       "      <th>dengue_cases</th>\n",
       "      <th>year</th>\n",
       "      <th>year_week</th>\n",
       "    </tr>\n",
       "    <tr>\n",
       "      <th>epi_week</th>\n",
       "      <th></th>\n",
       "      <th></th>\n",
       "      <th></th>\n",
       "    </tr>\n",
       "  </thead>\n",
       "  <tbody>\n",
       "    <tr>\n",
       "      <th>2012-W01</th>\n",
       "      <td>74</td>\n",
       "      <td>2012</td>\n",
       "      <td>2012-W01</td>\n",
       "    </tr>\n",
       "    <tr>\n",
       "      <th>2012-W02</th>\n",
       "      <td>66</td>\n",
       "      <td>2012</td>\n",
       "      <td>2012-W02</td>\n",
       "    </tr>\n",
       "    <tr>\n",
       "      <th>2012-W03</th>\n",
       "      <td>61</td>\n",
       "      <td>2012</td>\n",
       "      <td>2012-W03</td>\n",
       "    </tr>\n",
       "    <tr>\n",
       "      <th>2012-W04</th>\n",
       "      <td>52</td>\n",
       "      <td>2012</td>\n",
       "      <td>2012-W04</td>\n",
       "    </tr>\n",
       "    <tr>\n",
       "      <th>2012-W05</th>\n",
       "      <td>85</td>\n",
       "      <td>2012</td>\n",
       "      <td>2012-W05</td>\n",
       "    </tr>\n",
       "  </tbody>\n",
       "</table>\n",
       "</div>"
      ],
      "text/plain": [
       "          dengue_cases  year year_week\n",
       "epi_week                              \n",
       "2012-W01            74  2012  2012-W01\n",
       "2012-W02            66  2012  2012-W02\n",
       "2012-W03            61  2012  2012-W03\n",
       "2012-W04            52  2012  2012-W04\n",
       "2012-W05            85  2012  2012-W05"
      ]
     },
     "execution_count": 102,
     "metadata": {},
     "output_type": "execute_result"
    }
   ],
   "source": [
    "df_dengue.head()"
   ]
  },
  {
   "cell_type": "code",
   "execution_count": 110,
   "id": "40fddca8-a7a5-4989-b6bf-dda2822238d4",
   "metadata": {},
   "outputs": [],
   "source": [
    "weeks_in_year = {year: 0 for year in range(2012,2023)}\n",
    "\n",
    "for year in weeks_in_year.keys():\n",
    "    d = date(year, 1, 1)\n",
    "    delta = timedelta(days=(7 - d.weekday()) % 7)\n",
    "    monday = d + delta\n",
    "\n",
    "    while monday.year == year:\n",
    "        weeks_in_year[year] += 1\n",
    "        monday += timedelta(days=7)"
   ]
  },
  {
   "cell_type": "code",
   "execution_count": 33,
   "id": "0e7b70a5-6443-4ed3-b28e-1092fe0fc3c7",
   "metadata": {},
   "outputs": [],
   "source": [
    "# Create a new dataframe by filtering & grouping data from df_trends to obtain total searches by month.\n",
    "\n",
    "df_trends_monthly = df_trends.loc[lambda x: x.year.between(2012,2022), :].set_index('year_month')[['searches']]"
   ]
  },
  {
   "cell_type": "code",
   "execution_count": 34,
   "id": "e7be1611-d238-44dd-b135-2c08db49aa81",
   "metadata": {},
   "outputs": [],
   "source": [
    "# Create combined monthly dataframe.\n",
    "# (To include dengue data when available.)\n",
    "\n",
    "df_all_monthly = pd.concat([df_mean_temp_monthly, \n",
    "                            df_total_rf_monthly, \n",
    "                            df_mean_humidity_monthly, \n",
    "                            df_trends_monthly],\n",
    "                           axis=1)"
   ]
  },
  {
   "cell_type": "markdown",
   "id": "e451fe1a-3f1d-4c84-a6f5-abb2b9bb62c9",
   "metadata": {},
   "source": [
    "---\n",
    "## Obtain Annual Data\n",
    "---"
   ]
  },
  {
   "cell_type": "code",
   "execution_count": 35,
   "id": "b043ec3e-5804-4257-b65b-0508fe830cfb",
   "metadata": {},
   "outputs": [],
   "source": [
    "# Create a new dataframe by filtering & grouping data from df_climate_2012_2022 to obtain annual mean temperature data.\n",
    "\n",
    "df_mean_temp_annual = df_climate_2012_2022.groupby('year')[['mean_temperature']].mean()"
   ]
  },
  {
   "cell_type": "code",
   "execution_count": 36,
   "id": "131f38ff-6566-4e54-9a1c-5c8a364f5ffd",
   "metadata": {},
   "outputs": [],
   "source": [
    "# Create a new dataframe by filtering & grouping data from df_climate_2012_2022 to obtain total rainfall data by year.\n",
    "\n",
    "df_total_rf_annual = df_climate_2012_2022.groupby('year')[['total_rainfall']].sum()"
   ]
  },
  {
   "cell_type": "code",
   "execution_count": 37,
   "id": "6734469e-c919-4865-b154-acc40f2aa40a",
   "metadata": {},
   "outputs": [],
   "source": [
    "# Create a new dataframe by filtering & grouping data from df_mean_humidity to obtain annual mean humidity data.\n",
    "\n",
    "df_mean_humidity_annual = df_mean_humidity.loc[lambda x: x.year.between(2012,2022), :].groupby('year')[['mean_rh']].mean()"
   ]
  },
  {
   "cell_type": "code",
   "execution_count": 38,
   "id": "6b265dd2-96f6-4fe0-bd9a-568adc61c87e",
   "metadata": {},
   "outputs": [],
   "source": [
    "# Create a new dataframe by filtering & grouping data from df_dengue to obtain total dengue cases by year.\n",
    "\n",
    "df_dengue_annual = df_dengue.groupby('year')[['dengue_cases']].sum()"
   ]
  },
  {
   "cell_type": "code",
   "execution_count": 39,
   "id": "e6db794c-b0b3-4eec-ae73-e01e01740508",
   "metadata": {},
   "outputs": [],
   "source": [
    "# Create a new dataframe by filtering & grouping data from df_trends to obtain total searches by year.\n",
    "\n",
    "df_trends_annual = df_trends.loc[lambda x: x.year.between(2012,2022), :].set_index('year').groupby('year')[['searches']].sum()"
   ]
  },
  {
   "cell_type": "code",
   "execution_count": 40,
   "id": "de467dd4-c046-483a-9653-1dbe6a30fcf0",
   "metadata": {},
   "outputs": [],
   "source": [
    "# Create combined annual dataframe.\n",
    "\n",
    "df_all_annual = pd.concat([df_mean_temp_annual, \n",
    "                           df_total_rf_annual, \n",
    "                           df_mean_humidity_annual, \n",
    "                           df_dengue_annual, \n",
    "                           df_trends_annual], axis=1)"
   ]
  },
  {
   "cell_type": "markdown",
   "id": "13203e1d-e47b-48b9-8c6f-b0ba6dae22a1",
   "metadata": {},
   "source": [
    "# Charts"
   ]
  },
  {
   "cell_type": "code",
   "execution_count": 41,
   "id": "6df7b0bf-5d48-4070-9d8f-5698e025e44b",
   "metadata": {},
   "outputs": [],
   "source": [
    "# Function to plot two line charts within the same graph for comparison purposes.\n",
    "\n",
    "def compare_lines(df=None, cols_list=None, year_start=2012, year_end=2023, title=None):\n",
    "\n",
    "    ax = df.plot(y=cols_list[0], legend=False, ylabel=cols_list[0], style='o-', figsize=(12,6))\n",
    "    \n",
    "    ax2 = ax.twinx()\n",
    "    \n",
    "    df.plot(y=cols_list[1], ax=ax2, legend=False, ylabel=cols_list[1], color='r', style='o-')\n",
    "    \n",
    "    ax.figure.legend()\n",
    "    \n",
    "    plt.title(title)\n",
    "    \n",
    "    plt.xlim(year_start, year_end)\n",
    "    \n",
    "    plt.show();"
   ]
  },
  {
   "cell_type": "code",
   "execution_count": 42,
   "id": "4adc2f48-2b36-44ed-b8a4-00ac4392edbc",
   "metadata": {},
   "outputs": [
    {
     "data": {
      "text/html": [
       "<div>\n",
       "<style scoped>\n",
       "    .dataframe tbody tr th:only-of-type {\n",
       "        vertical-align: middle;\n",
       "    }\n",
       "\n",
       "    .dataframe tbody tr th {\n",
       "        vertical-align: top;\n",
       "    }\n",
       "\n",
       "    .dataframe thead th {\n",
       "        text-align: right;\n",
       "    }\n",
       "</style>\n",
       "<table border=\"1\" class=\"dataframe\">\n",
       "  <thead>\n",
       "    <tr style=\"text-align: right;\">\n",
       "      <th></th>\n",
       "      <th>mean_temperature</th>\n",
       "      <th>total_rainfall</th>\n",
       "      <th>mean_rh</th>\n",
       "      <th>dengue_cases</th>\n",
       "      <th>searches</th>\n",
       "    </tr>\n",
       "    <tr>\n",
       "      <th>year</th>\n",
       "      <th></th>\n",
       "      <th></th>\n",
       "      <th></th>\n",
       "      <th></th>\n",
       "      <th></th>\n",
       "    </tr>\n",
       "  </thead>\n",
       "  <tbody>\n",
       "    <tr>\n",
       "      <th>2012</th>\n",
       "      <td>27.542623</td>\n",
       "      <td>2159.9</td>\n",
       "      <td>83.475</td>\n",
       "      <td>4632</td>\n",
       "      <td>93</td>\n",
       "    </tr>\n",
       "  </tbody>\n",
       "</table>\n",
       "</div>"
      ],
      "text/plain": [
       "      mean_temperature  total_rainfall  mean_rh  dengue_cases  searches\n",
       "year                                                                   \n",
       "2012         27.542623          2159.9   83.475          4632        93"
      ]
     },
     "execution_count": 42,
     "metadata": {},
     "output_type": "execute_result"
    }
   ],
   "source": [
    "df_all_annual.head(1)"
   ]
  },
  {
   "cell_type": "code",
   "execution_count": 43,
   "id": "8f9076dc-1674-45e5-a971-fae110d3b7b0",
   "metadata": {},
   "outputs": [
    {
     "data": {
      "image/png": "[encoded data removed]",
      "text/plain": [
       "<Figure size 1200x600 with 2 Axes>"
      ]
     },
     "metadata": {},
     "output_type": "display_data"
    }
   ],
   "source": [
    "# Example of how to use the compare_lines() function.\n",
    "\n",
    "compare_lines(\n",
    "    df=df_all_annual, \n",
    "    cols_list=['total_rainfall', 'dengue_cases'], \n",
    "    title='Annual: Total Rainfall vs Dengue Cases'\n",
    ")"
   ]
  },
  {
   "cell_type": "code",
   "execution_count": null,
   "id": "38a556e5-02e6-46b2-97b9-8c56556b6831",
   "metadata": {},
   "outputs": [],
   "source": []
  }
 ],
 "metadata": {
  "kernelspec": {
   "display_name": "Python [conda env:dsi-sg]",
   "language": "python",
   "name": "conda-env-dsi-sg-py"
  },
  "language_info": {
   "codemirror_mode": {
    "name": "ipython",
    "version": 3
   },
   "file_extension": ".py",
   "mimetype": "text/x-python",
   "name": "python",
   "nbconvert_exporter": "python",
   "pygments_lexer": "ipython3",
   "version": "3.9.16"
  }
 },
 "nbformat": 4,
 "nbformat_minor": 5
}
