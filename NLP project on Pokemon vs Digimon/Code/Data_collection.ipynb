{
 "cells": [
  {
   "cell_type": "markdown",
   "id": "30a69eb2-c756-46ab-ae73-2eaa79b86abd",
   "metadata": {},
   "source": [
    "# Import Libary "
   ]
  },
  {
   "cell_type": "code",
   "execution_count": 1,
   "id": "d229d3fe-229a-43ae-8d2e-4f501f9d861a",
   "metadata": {},
   "outputs": [],
   "source": [
    "import pandas as pd\n",
    "import praw"
   ]
  },
  {
   "cell_type": "markdown",
   "id": "7fe4afc3-7ae8-4ce7-b960-d797e2519392",
   "metadata": {},
   "source": [
    "# Set up API"
   ]
  },
  {
   "cell_type": "code",
   "execution_count": 2,
   "id": "1ab0cf5d-d45b-48fd-9bd9-299cfaeb550d",
   "metadata": {},
   "outputs": [],
   "source": [
    "reddit = praw.Reddit(client_id='yxs-KhH_DCYUpVQjMFITOg', client_secret='RkTZ7zC7a501w9KqCmy2pJ_V1zs3Dw', user_agent='web scrapping')"
   ]
  },
  {
   "cell_type": "markdown",
   "id": "c002c7b1-44e4-4b2c-a234-ace260c31395",
   "metadata": {},
   "source": [
    "### we will look into the Title, Author, Upvotes"
   ]
  },
  {
   "cell_type": "code",
   "execution_count": 3,
   "id": "2e5afcd7-a13b-41eb-9403-01cae49f785a",
   "metadata": {},
   "outputs": [
    {
     "name": "stdout",
     "output_type": "stream",
     "text": [
      "Title: [Weekly Questions Thread] 06 March 2023\n",
      "Author: PokeUpdateBot\n",
      "Upvotes: 17\n",
      "\n",
      "Title: /r/Pokemon is looking for moderators! Apply within!\n",
      "Author: Ferretsroq\n",
      "Upvotes: 33\n",
      "\n",
      "Title: \"Crikey! Have a go at that beauty of a Pokemon!\" - Steve Irwin as a Pokemon Trainer / Conservationist. Hope you like it!\n",
      "Author: gage_cottle\n",
      "Upvotes: 19559\n",
      "\n",
      "Title: Remade the Pokémon Sleep logo with a more deserving mascot.\n",
      "Author: Golden-_-mango\n",
      "Upvotes: 4094\n",
      "\n",
      "Title: [OC] 🍁Birb (Hisuian Decidueye Pre-Evo Concept)\n",
      "Author: Kr4ckle\n",
      "Upvotes: 5507\n",
      "\n",
      "Title: my favorite crackmon\n",
      "Author: Sea-Asparagus820\n",
      "Upvotes: 2653\n",
      "\n",
      "Title: [OC] - Wanted to remake another classic from indigo league and what better episode than Wake up Snorlax! How old were you when you first watched this? ⬇️\n",
      "Author: addyxiii\n",
      "Upvotes: 1268\n",
      "\n",
      "Title: Litwick x Kirlia\n",
      "Author: Eastern-Read-2090\n",
      "Upvotes: 990\n",
      "\n",
      "Title: Anyone else miss the *evil* evil teams?\n",
      "Author: apowo16\n",
      "Upvotes: 255\n",
      "\n",
      "Title: Made an espeon rug inspired by the poke lids they have for manhole covers! What do y’all think? 🤠 OC\n",
      "Author: strife_jpg\n",
      "Upvotes: 483\n",
      "\n"
     ]
    }
   ],
   "source": [
    "pokemonreddit = reddit.subreddit('pokemon')\n",
    "\n",
    "# get the top 10 hot posts from the subreddit\n",
    "hot_posts = pokemonreddit.hot(limit=10)\n",
    "\n",
    "for post in hot_posts:\n",
    "    print(\"Title:\", post.title)\n",
    "    print(\"Author:\", post.author.name)\n",
    "    print(\"Upvotes:\", post.score)\n",
    "    print()"
   ]
  },
  {
   "cell_type": "code",
   "execution_count": 4,
   "id": "1eac9ac2-ea72-48f4-9960-b73ce4195ff3",
   "metadata": {},
   "outputs": [
    {
     "name": "stdout",
     "output_type": "stream",
     "text": [
      "Title: Digimon World: Next Order, Switch & PC Versions- General Discussion & Information Thread\n",
      "Author: MFBR\n",
      "Upvotes: 78\n",
      "\n",
      "Title: Digimon Ghost Game Episode 65 \"The Black Zone of Death\" + No Episode Next 2 Weeks!\n",
      "Author: Airdramon\n",
      "Upvotes: 86\n",
      "\n",
      "Title: While I didn't notice as a kid, as an adult it really changes the tone of the scenes compared to the original Japanese music 😅\n",
      "Author: IllusiveManJr\n",
      "Upvotes: 1009\n",
      "\n",
      "Title: Found at my local FYE- Digimon branded milk tea\n",
      "Author: Dream-is-gay\n",
      "Upvotes: 104\n",
      "\n",
      "Title: Super happy with how this turned out\n",
      "Author: ViperFong\n",
      "Upvotes: 126\n",
      "\n",
      "Title: My gf got me this for my birthday, I’m turning 35 😅, no shame!\n",
      "Author: i_mush\n",
      "Upvotes: 550\n",
      "\n",
      "Title: Ichiban Kuji Digimon, Digimon, Ultimate Evolution!- A, B, & C Figure Lottery Prize Images\n",
      "Author: MFBR\n",
      "Upvotes: 46\n",
      "\n",
      "Title: Daydreaming\n",
      "Author: erzetto\n",
      "Upvotes: 56\n",
      "\n",
      "Title: Eviction day: The gift Pulsemon held on to his home Lab as long as he could, but he'll love his new home in the arena app\n",
      "Author: DMDdude\n",
      "Upvotes: 4\n",
      "\n",
      "Title: Digimon Frontier Stitches Products at AniBirth, Digimon Partners, & Toei Museum, plus In Store Event\n",
      "Author: MFBR\n",
      "Upvotes: 21\n",
      "\n"
     ]
    }
   ],
   "source": [
    "digimonreddit = reddit.subreddit('digimon')\n",
    "\n",
    "# get the top 10 hot posts from the subreddit\n",
    "hot_posts = digimonreddit.hot(limit=10)\n",
    "\n",
    "for post in hot_posts:\n",
    "    print(\"Title:\", post.title)\n",
    "    print(\"Author:\", post.author.name)\n",
    "    print(\"Upvotes:\", post.score)\n",
    "    print()"
   ]
  },
  {
   "cell_type": "markdown",
   "id": "18f8c51b-67a0-4135-b782-bec7708e588a",
   "metadata": {},
   "source": [
    "from this 3 group, we will drop author and upvote as it does not have any word we need"
   ]
  },
  {
   "cell_type": "markdown",
   "id": "bc84e5fb-069e-4f99-8878-40dca7bc2bd0",
   "metadata": {},
   "source": [
    "# Get Reddit post with title, score, id, subreddit, url, num_comments and body"
   ]
  },
  {
   "cell_type": "code",
   "execution_count": 5,
   "id": "7cfccf6e-20a8-4e15-95dc-c3a2484bab94",
   "metadata": {},
   "outputs": [],
   "source": [
    "pokemon_posts = []\n",
    "pokemon_subreddit = reddit.subreddit('pokemon')\n",
    "\n",
    "for post in pokemon_subreddit.hot(limit=1000):\n",
    "    pokemon_posts.append([post.title, post.score, post.id, post.subreddit, post.url, post.num_comments, post.selftext, post.created])\n",
    "#posts = pd.DataFrame(posts,columns=['title', 'score', 'id', 'subreddit', 'url', 'num_comments', 'body', 'created'])"
   ]
  },
  {
   "cell_type": "code",
   "execution_count": 6,
   "id": "3816a57a-2ca4-4e07-9168-aa094f426150",
   "metadata": {},
   "outputs": [],
   "source": [
    "pokemon_subreddit = reddit.subreddit('pokemongo')\n",
    "\n",
    "for post in pokemon_subreddit.hot(limit=1000):\n",
    "    pokemon_posts.append([post.title, post.score, post.id, post.subreddit, post.url, post.num_comments, post.selftext, post.created])"
   ]
  },
  {
   "cell_type": "code",
   "execution_count": 7,
   "id": "7acaf189-c1df-4588-957c-abdc952172de",
   "metadata": {},
   "outputs": [],
   "source": [
    "digimon_posts = []\n",
    "digimon_subreddit = reddit.subreddit('digimon')\n",
    "for post in digimon_subreddit.hot(limit=1000):\n",
    "    digimon_posts.append([post.title, post.score, post.id, post.subreddit, post.url, post.num_comments, post.selftext, post.created])\n",
    "#posts = pd.DataFrame(posts,columns=['title', 'score', 'id', 'subreddit', 'url', 'num_comments', 'body', 'created'])"
   ]
  },
  {
   "cell_type": "code",
   "execution_count": 8,
   "id": "3d10d089-d5ee-4f2f-84d9-f2bd7798c340",
   "metadata": {},
   "outputs": [],
   "source": [
    "digimon_subreddit = reddit.subreddit('digimonworld')\n",
    "for post in digimon_subreddit.hot(limit=1000):\n",
    "    digimon_posts.append([post.title, post.score, post.id, post.subreddit, post.url, post.num_comments, post.selftext, post.created])"
   ]
  },
  {
   "cell_type": "code",
   "execution_count": 9,
   "id": "13e2a1f9-1244-45a2-bfd9-7f975b491bc7",
   "metadata": {},
   "outputs": [],
   "source": [
    "pokemon_posts = pd.DataFrame(pokemon_posts,columns=['title', 'score', 'id', 'subreddit', 'url', 'num_comments', 'body', 'created'])\n",
    "digimon_posts = pd.DataFrame(digimon_posts,columns=['title', 'score', 'id', 'subreddit', 'url', 'num_comments', 'body', 'created'])"
   ]
  },
  {
   "cell_type": "code",
   "execution_count": 10,
   "id": "3ef07830-98a6-48de-b1cc-116da4ad3ef2",
   "metadata": {},
   "outputs": [
    {
     "data": {
      "text/html": [
       "<div>\n",
       "<style scoped>\n",
       "    .dataframe tbody tr th:only-of-type {\n",
       "        vertical-align: middle;\n",
       "    }\n",
       "\n",
       "    .dataframe tbody tr th {\n",
       "        vertical-align: top;\n",
       "    }\n",
       "\n",
       "    .dataframe thead th {\n",
       "        text-align: right;\n",
       "    }\n",
       "</style>\n",
       "<table border=\"1\" class=\"dataframe\">\n",
       "  <thead>\n",
       "    <tr style=\"text-align: right;\">\n",
       "      <th></th>\n",
       "      <th>title</th>\n",
       "      <th>score</th>\n",
       "      <th>id</th>\n",
       "      <th>subreddit</th>\n",
       "      <th>url</th>\n",
       "      <th>num_comments</th>\n",
       "      <th>body</th>\n",
       "      <th>created</th>\n",
       "    </tr>\n",
       "  </thead>\n",
       "  <tbody>\n",
       "    <tr>\n",
       "      <th>1425</th>\n",
       "      <td>I'm back with another set guys! I'm the guy wi...</td>\n",
       "      <td>12</td>\n",
       "      <td>11mhtas</td>\n",
       "      <td>pokemongo</td>\n",
       "      <td>https://i.redd.it/gip5mzupfoma1.jpg</td>\n",
       "      <td>10</td>\n",
       "      <td></td>\n",
       "      <td>1.678334e+09</td>\n",
       "    </tr>\n",
       "    <tr>\n",
       "      <th>1426</th>\n",
       "      <td>Always looked at those high level players with...</td>\n",
       "      <td>4</td>\n",
       "      <td>11mo4wj</td>\n",
       "      <td>pokemongo</td>\n",
       "      <td>https://i.redd.it/f36y5d3b7qma1.jpg</td>\n",
       "      <td>3</td>\n",
       "      <td></td>\n",
       "      <td>1.678355e+09</td>\n",
       "    </tr>\n",
       "    <tr>\n",
       "      <th>1427</th>\n",
       "      <td>Sense everyone is deciding to post there shiny...</td>\n",
       "      <td>0</td>\n",
       "      <td>11n3h9c</td>\n",
       "      <td>pokemongo</td>\n",
       "      <td>https://i.redd.it/kc17lirtitma1.jpg</td>\n",
       "      <td>1</td>\n",
       "      <td></td>\n",
       "      <td>1.678395e+09</td>\n",
       "    </tr>\n",
       "    <tr>\n",
       "      <th>1428</th>\n",
       "      <td>9k cp alakazam?</td>\n",
       "      <td>0</td>\n",
       "      <td>11nb2ug</td>\n",
       "      <td>pokemongo</td>\n",
       "      <td>https://i.redd.it/0g43412rzuma1.jpg</td>\n",
       "      <td>8</td>\n",
       "      <td></td>\n",
       "      <td>1.678413e+09</td>\n",
       "    </tr>\n",
       "    <tr>\n",
       "      <th>1429</th>\n",
       "      <td>It's not a Ho-oh, it's a Hund-Oh</td>\n",
       "      <td>13</td>\n",
       "      <td>11mfv0o</td>\n",
       "      <td>pokemongo</td>\n",
       "      <td>https://i.redd.it/a53kdhhnznma1.png</td>\n",
       "      <td>3</td>\n",
       "      <td></td>\n",
       "      <td>1.678328e+09</td>\n",
       "    </tr>\n",
       "  </tbody>\n",
       "</table>\n",
       "</div>"
      ],
      "text/plain": [
       "                                                  title  score       id  \\\n",
       "1425  I'm back with another set guys! I'm the guy wi...     12  11mhtas   \n",
       "1426  Always looked at those high level players with...      4  11mo4wj   \n",
       "1427  Sense everyone is deciding to post there shiny...      0  11n3h9c   \n",
       "1428                                    9k cp alakazam?      0  11nb2ug   \n",
       "1429                   It's not a Ho-oh, it's a Hund-Oh     13  11mfv0o   \n",
       "\n",
       "      subreddit                                  url  num_comments body  \\\n",
       "1425  pokemongo  https://i.redd.it/gip5mzupfoma1.jpg            10        \n",
       "1426  pokemongo  https://i.redd.it/f36y5d3b7qma1.jpg             3        \n",
       "1427  pokemongo  https://i.redd.it/kc17lirtitma1.jpg             1        \n",
       "1428  pokemongo  https://i.redd.it/0g43412rzuma1.jpg             8        \n",
       "1429  pokemongo  https://i.redd.it/a53kdhhnznma1.png             3        \n",
       "\n",
       "           created  \n",
       "1425  1.678334e+09  \n",
       "1426  1.678355e+09  \n",
       "1427  1.678395e+09  \n",
       "1428  1.678413e+09  \n",
       "1429  1.678328e+09  "
      ]
     },
     "execution_count": 10,
     "metadata": {},
     "output_type": "execute_result"
    }
   ],
   "source": [
    "pokemon_posts.tail()"
   ]
  },
  {
   "cell_type": "code",
   "execution_count": 15,
   "id": "4b8197b0-b0d4-4451-a4f6-faae8270553f",
   "metadata": {},
   "outputs": [
    {
     "data": {
      "text/html": [
       "<div>\n",
       "<style scoped>\n",
       "    .dataframe tbody tr th:only-of-type {\n",
       "        vertical-align: middle;\n",
       "    }\n",
       "\n",
       "    .dataframe tbody tr th {\n",
       "        vertical-align: top;\n",
       "    }\n",
       "\n",
       "    .dataframe thead th {\n",
       "        text-align: right;\n",
       "    }\n",
       "</style>\n",
       "<table border=\"1\" class=\"dataframe\">\n",
       "  <thead>\n",
       "    <tr style=\"text-align: right;\">\n",
       "      <th></th>\n",
       "      <th>title</th>\n",
       "      <th>score</th>\n",
       "      <th>id</th>\n",
       "      <th>subreddit</th>\n",
       "      <th>url</th>\n",
       "      <th>num_comments</th>\n",
       "      <th>body</th>\n",
       "      <th>created</th>\n",
       "    </tr>\n",
       "  </thead>\n",
       "  <tbody>\n",
       "    <tr>\n",
       "      <th>1055</th>\n",
       "      <td>Digimon World Re:Digitize:Decode (3DS version)</td>\n",
       "      <td>3</td>\n",
       "      <td>lse2e9</td>\n",
       "      <td>DigimonWorld</td>\n",
       "      <td>https://www.reddit.com/r/DigimonWorld/comments...</td>\n",
       "      <td>0</td>\n",
       "      <td>DW Re:DD Ending (english patch)\\n\\n[https://ww...</td>\n",
       "      <td>1.614280e+09</td>\n",
       "    </tr>\n",
       "    <tr>\n",
       "      <th>1056</th>\n",
       "      <td>Digimon World 4 Trailer</td>\n",
       "      <td>3</td>\n",
       "      <td>hdntoq</td>\n",
       "      <td>DigimonWorld</td>\n",
       "      <td>https://www.youtube.com/watch?v=CIUX8BV-OXE</td>\n",
       "      <td>0</td>\n",
       "      <td></td>\n",
       "      <td>1.592812e+09</td>\n",
       "    </tr>\n",
       "    <tr>\n",
       "      <th>1057</th>\n",
       "      <td>PS1 Digimon world 3 Trailer HD</td>\n",
       "      <td>5</td>\n",
       "      <td>hbtq5o</td>\n",
       "      <td>DigimonWorld</td>\n",
       "      <td>https://www.youtube.com/watch?v=qRtL6yau3CI</td>\n",
       "      <td>0</td>\n",
       "      <td></td>\n",
       "      <td>1.592539e+09</td>\n",
       "    </tr>\n",
       "    <tr>\n",
       "      <th>1058</th>\n",
       "      <td>PS1 Digimon World 2 Trailer HD</td>\n",
       "      <td>6</td>\n",
       "      <td>hb6xoy</td>\n",
       "      <td>DigimonWorld</td>\n",
       "      <td>https://www.youtube.com/watch?v=NOE-uRW5vGc</td>\n",
       "      <td>0</td>\n",
       "      <td></td>\n",
       "      <td>1.592452e+09</td>\n",
       "    </tr>\n",
       "    <tr>\n",
       "      <th>1059</th>\n",
       "      <td>PS1 Digimon World Trailer HD</td>\n",
       "      <td>12</td>\n",
       "      <td>hakhwy</td>\n",
       "      <td>DigimonWorld</td>\n",
       "      <td>https://www.youtube.com/watch?v=E0-C5h7n7RA</td>\n",
       "      <td>2</td>\n",
       "      <td></td>\n",
       "      <td>1.592370e+09</td>\n",
       "    </tr>\n",
       "  </tbody>\n",
       "</table>\n",
       "</div>"
      ],
      "text/plain": [
       "                                               title  score      id  \\\n",
       "1055  Digimon World Re:Digitize:Decode (3DS version)      3  lse2e9   \n",
       "1056                         Digimon World 4 Trailer      3  hdntoq   \n",
       "1057                  PS1 Digimon world 3 Trailer HD      5  hbtq5o   \n",
       "1058                  PS1 Digimon World 2 Trailer HD      6  hb6xoy   \n",
       "1059                    PS1 Digimon World Trailer HD     12  hakhwy   \n",
       "\n",
       "         subreddit                                                url  \\\n",
       "1055  DigimonWorld  https://www.reddit.com/r/DigimonWorld/comments...   \n",
       "1056  DigimonWorld        https://www.youtube.com/watch?v=CIUX8BV-OXE   \n",
       "1057  DigimonWorld        https://www.youtube.com/watch?v=qRtL6yau3CI   \n",
       "1058  DigimonWorld        https://www.youtube.com/watch?v=NOE-uRW5vGc   \n",
       "1059  DigimonWorld        https://www.youtube.com/watch?v=E0-C5h7n7RA   \n",
       "\n",
       "      num_comments                                               body  \\\n",
       "1055             0  DW Re:DD Ending (english patch)\\n\\n[https://ww...   \n",
       "1056             0                                                      \n",
       "1057             0                                                      \n",
       "1058             0                                                      \n",
       "1059             2                                                      \n",
       "\n",
       "           created  \n",
       "1055  1.614280e+09  \n",
       "1056  1.592812e+09  \n",
       "1057  1.592539e+09  \n",
       "1058  1.592452e+09  \n",
       "1059  1.592370e+09  "
      ]
     },
     "execution_count": 15,
     "metadata": {},
     "output_type": "execute_result"
    }
   ],
   "source": [
    "digimon_posts.tail()"
   ]
  },
  {
   "cell_type": "markdown",
   "id": "17c38f08-afea-4303-ac2d-11cf95c0e01a",
   "metadata": {},
   "source": [
    "# Create csv for analysis of post text only\n"
   ]
  },
  {
   "cell_type": "code",
   "execution_count": 11,
   "id": "c9b9539e-11e8-4b6c-badb-03a83cb3e14f",
   "metadata": {},
   "outputs": [],
   "source": [
    "pokemon_posts.to_csv('./datasets/pokemon_data.csv', index=False)\n",
    "digimon_posts.to_csv('./datasets/digimon_data.csv', index=False)"
   ]
  }
 ],
 "metadata": {
  "kernelspec": {
   "display_name": "dsi-sg",
   "language": "python",
   "name": "dsi-sg"
  },
  "language_info": {
   "codemirror_mode": {
    "name": "ipython",
    "version": 3
   },
   "file_extension": ".py",
   "mimetype": "text/x-python",
   "name": "python",
   "nbconvert_exporter": "python",
   "pygments_lexer": "ipython3",
   "version": "3.9.13"
  }
 },
 "nbformat": 4,
 "nbformat_minor": 5
}
